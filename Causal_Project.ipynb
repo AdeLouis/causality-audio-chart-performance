{
  "cells": [
    {
      "cell_type": "markdown",
      "metadata": {
        "id": "Gt0hIgBY9rSA"
      },
      "source": [
        "# Billboard Data Collection"
      ]
    },
    {
      "cell_type": "code",
      "execution_count": null,
      "metadata": {
        "colab": {
          "base_uri": "https://localhost:8080/"
        },
        "id": "AxxCWeQdzIor",
        "outputId": "20768c4b-4cbc-4dd1-e1b9-cac5a502fed8"
      },
      "outputs": [
        {
          "name": "stdout",
          "output_type": "stream",
          "text": [
            "       Postion on chart              Titles  ... lastPosition  chart release date\n",
            "0                     1             Humble.  ...            3          2017-05-01\n",
            "1                     2        Shape Of You  ...            1          2017-05-01\n",
            "2                     3  That's What I Like  ...            2          2017-05-01\n",
            "3                     4                DNA.  ...            0          2017-05-01\n",
            "4                     5            Mask Off  ...            7          2017-05-01\n",
            "...                 ...                 ...  ...          ...                 ...\n",
            "11295                96         Knowing You  ...          100          2021-09-27\n",
            "11296                97       Am I Dreaming  ...            0          2021-09-27\n",
            "11297                98           Same Boat  ...            0          2021-09-27\n",
            "11298                99        Come Through  ...           95          2021-09-27\n",
            "11299               100        Don't Go Yet  ...           88          2021-09-27\n",
            "\n",
            "[11300 rows x 6 columns]\n"
          ]
        }
      ],
      "source": [
        "from datetime import datetime, timedelta\n",
        "import billboard\n",
        "import pandas as pd\n",
        "import numpy as np\n",
        "\n",
        "titles=list()\n",
        "artists=list()\n",
        "weeks=list()\n",
        "lastPos=list()\n",
        "dates=list()\n",
        "chartPos=list()\n",
        "#dates for summer 2017\n",
        "startdate_2017 = '01/05/17 00:00:00'\n",
        "enddate_2017 = '02/10/17 00:00:00'\n",
        "#dates for summer 2018\n",
        "startdate_2018 = '30/04/18 00:00:00'\n",
        "enddate_2018 = '01/10/18 00:00:00'\n",
        "#dates for summer 2019\n",
        "startdate_2019 = '23/04/19 00:00:00'\n",
        "enddate_2019= '30/09/19 00:00:00'\n",
        "#dates for summer 2020\n",
        "startdate_2020= '04/05/20 00:00:00'\n",
        "enddate_2020= '28/09/20 00:00:00'\n",
        "#dates for summer 2021\n",
        "startdate_2021 = '03/05/21 00:00:00'\n",
        "enddate_2021= '27/09/21 00:00:00'\n",
        "\n",
        "startdate_2017 = datetime.strptime(startdate_2017, '%d/%m/%y %H:%M:%S')\n",
        "enddate_2017 = datetime.strptime(enddate_2017, '%d/%m/%y %H:%M:%S')\n",
        "\n",
        "startdate_2018 = datetime.strptime(startdate_2018, '%d/%m/%y %H:%M:%S')\n",
        "enddate_2018 = datetime.strptime(enddate_2018, '%d/%m/%y %H:%M:%S')\n",
        "\n",
        "startdate_2019 = datetime.strptime(startdate_2019, '%d/%m/%y %H:%M:%S')\n",
        "enddate_2019 = datetime.strptime(enddate_2019, '%d/%m/%y %H:%M:%S')\n",
        "\n",
        "startdate_2020 = datetime.strptime(startdate_2020, '%d/%m/%y %H:%M:%S')\n",
        "enddate_2020 = datetime.strptime(enddate_2020, '%d/%m/%y %H:%M:%S')\n",
        "\n",
        "startdate_2021 = datetime.strptime(startdate_2021, '%d/%m/%y %H:%M:%S')\n",
        "enddate_2021 = datetime.strptime(enddate_2021, '%d/%m/%y %H:%M:%S')\n",
        "delta = timedelta(days=7)\n",
        "\n",
        "#getting the billboard hot-100 songs for 2017\n",
        "while startdate_2017 <= enddate_2017 :\n",
        "  t=startdate_2017.strftime('%Y-%m-%d')\n",
        "  chart = billboard.ChartData('hot-100', date=t)\n",
        "  for i in range(100):\n",
        "    chartPos.append(i+1)\n",
        "    titles.append(chart[i].title)\n",
        "    artists.append(chart[i].artist)\n",
        "    weeks.append(chart[i].weeks)\n",
        "    lastPos.append(chart[i].lastPos)\n",
        "    dates.append(startdate_2017)\n",
        "  startdate_2017 += delta\n",
        "\n",
        "#getting the billboard hot-100 songs for 2018\n",
        "while startdate_2018 <= enddate_2018 :\n",
        "  t=startdate_2018.strftime('%Y-%m-%d')\n",
        "  chart = billboard.ChartData('hot-100', date=t)\n",
        "  for i in range(100):\n",
        "    chartPos.append(i+1)\n",
        "    titles.append(chart[i].title)\n",
        "    artists.append(chart[i].artist)\n",
        "    weeks.append(chart[i].weeks)\n",
        "    lastPos.append(chart[i].lastPos)\n",
        "    dates.append(startdate_2018)\n",
        "  startdate_2018 += delta\n",
        "\n",
        "#getting the billboard hot-100 songs for 2019\n",
        "while startdate_2019 <= enddate_2019 :\n",
        "  t=startdate_2019.strftime('%Y-%m-%d')\n",
        "  chart = billboard.ChartData('hot-100', date=t)\n",
        "  for i in range(100):\n",
        "    chartPos.append(i+1)\n",
        "    titles.append(chart[i].title)\n",
        "    artists.append(chart[i].artist)\n",
        "    weeks.append(chart[i].weeks)\n",
        "    lastPos.append(chart[i].lastPos)\n",
        "    dates.append(startdate_2019)\n",
        "  startdate_2019 += delta\n",
        "\n",
        "#getting the billboard hot-100 songs for 2020\n",
        "while startdate_2020 <= enddate_2020 :\n",
        "  t=startdate_2020.strftime('%Y-%m-%d')\n",
        "  chart = billboard.ChartData('hot-100', date=t)\n",
        "  for i in range(100):\n",
        "    chartPos.append(i+1)\n",
        "    titles.append(chart[i].title)\n",
        "    artists.append(chart[i].artist)\n",
        "    weeks.append(chart[i].weeks)\n",
        "    lastPos.append(chart[i].lastPos)\n",
        "    dates.append(startdate_2020)\n",
        "  startdate_2020 += delta  \n",
        "\n",
        "#getting the billboard hot-100 songs for 2021\n",
        "while startdate_2021 <= enddate_2021 :\n",
        "  t=startdate_2021.strftime('%Y-%m-%d')\n",
        "  chart = billboard.ChartData('hot-100', date=t)\n",
        "  for i in range(100):\n",
        "    chartPos.append(i+1)\n",
        "    titles.append(chart[i].title)\n",
        "    artists.append(chart[i].artist)\n",
        "    weeks.append(chart[i].weeks)\n",
        "    lastPos.append(chart[i].lastPos)\n",
        "    dates.append(startdate_2021)\n",
        "  startdate_2021 += delta\n",
        "\n",
        "#creating the dataset with all four years of songs\n",
        "df_chartPos=pd.DataFrame(chartPos, columns=[\"Postion on chart\"])\n",
        "df_titles=pd.DataFrame(titles, columns=[\"Titles\"])\n",
        "df_artists=pd.DataFrame(artists, columns=[\"Artists\"])\n",
        "df_weeks=pd.DataFrame(weeks, columns=[\"Weeks\"])\n",
        "#the tracks position on the previous weeks chart\n",
        "df_last=pd.DataFrame(lastPos, columns=[\"lastPosition\"])\n",
        "df_dates=pd.DataFrame(dates, columns=[\"chart release date\"])\n",
        "df=pd.concat([df_chartPos,df_titles], axis=1)\n",
        "df=pd.concat([df,df_artists], axis=1)\n",
        "df=pd.concat([df,df_weeks], axis=1)\n",
        "df=pd.concat([df,df_last], axis=1)\n",
        "df=pd.concat([df,df_dates], axis=1)\n",
        "print(df) \n",
        "\n",
        "df.to_csv('SongList.csv')"
      ]
    },
    {
      "cell_type": "code",
      "execution_count": null,
      "metadata": {
        "colab": {
          "base_uri": "https://localhost:8080/",
          "height": 419
        },
        "id": "wiJHe8_ICn-F",
        "outputId": "108fed4d-fcb9-4df4-99e1-bd1f40a5e8ea"
      },
      "outputs": [
        {
          "data": {
            "text/html": [
              "<div>\n",
              "<style scoped>\n",
              "    .dataframe tbody tr th:only-of-type {\n",
              "        vertical-align: middle;\n",
              "    }\n",
              "\n",
              "    .dataframe tbody tr th {\n",
              "        vertical-align: top;\n",
              "    }\n",
              "\n",
              "    .dataframe thead th {\n",
              "        text-align: right;\n",
              "    }\n",
              "</style>\n",
              "<table border=\"1\" class=\"dataframe\">\n",
              "  <thead>\n",
              "    <tr style=\"text-align: right;\">\n",
              "      <th></th>\n",
              "      <th>Postion on chart</th>\n",
              "      <th>Titles</th>\n",
              "      <th>Artists</th>\n",
              "      <th>Weeks</th>\n",
              "      <th>lastPosition</th>\n",
              "      <th>chart release date</th>\n",
              "    </tr>\n",
              "  </thead>\n",
              "  <tbody>\n",
              "    <tr>\n",
              "      <th>0</th>\n",
              "      <td>1</td>\n",
              "      <td>Humble.</td>\n",
              "      <td>Kendrick Lamar</td>\n",
              "      <td>3</td>\n",
              "      <td>3</td>\n",
              "      <td>2017-05-01</td>\n",
              "    </tr>\n",
              "    <tr>\n",
              "      <th>1</th>\n",
              "      <td>2</td>\n",
              "      <td>Shape Of You</td>\n",
              "      <td>Ed Sheeran</td>\n",
              "      <td>15</td>\n",
              "      <td>1</td>\n",
              "      <td>2017-05-01</td>\n",
              "    </tr>\n",
              "    <tr>\n",
              "      <th>2</th>\n",
              "      <td>3</td>\n",
              "      <td>That's What I Like</td>\n",
              "      <td>Bruno Mars</td>\n",
              "      <td>14</td>\n",
              "      <td>2</td>\n",
              "      <td>2017-05-01</td>\n",
              "    </tr>\n",
              "    <tr>\n",
              "      <th>3</th>\n",
              "      <td>4</td>\n",
              "      <td>DNA.</td>\n",
              "      <td>Kendrick Lamar</td>\n",
              "      <td>1</td>\n",
              "      <td>0</td>\n",
              "      <td>2017-05-01</td>\n",
              "    </tr>\n",
              "    <tr>\n",
              "      <th>4</th>\n",
              "      <td>5</td>\n",
              "      <td>Mask Off</td>\n",
              "      <td>Future</td>\n",
              "      <td>9</td>\n",
              "      <td>7</td>\n",
              "      <td>2017-05-01</td>\n",
              "    </tr>\n",
              "    <tr>\n",
              "      <th>...</th>\n",
              "      <td>...</td>\n",
              "      <td>...</td>\n",
              "      <td>...</td>\n",
              "      <td>...</td>\n",
              "      <td>...</td>\n",
              "      <td>...</td>\n",
              "    </tr>\n",
              "    <tr>\n",
              "      <th>11295</th>\n",
              "      <td>96</td>\n",
              "      <td>Knowing You</td>\n",
              "      <td>Kenny Chesney</td>\n",
              "      <td>6</td>\n",
              "      <td>100</td>\n",
              "      <td>2021-09-27</td>\n",
              "    </tr>\n",
              "    <tr>\n",
              "      <th>11296</th>\n",
              "      <td>97</td>\n",
              "      <td>Am I Dreaming</td>\n",
              "      <td>Lil Nas X Featuring Miley Cyrus</td>\n",
              "      <td>1</td>\n",
              "      <td>0</td>\n",
              "      <td>2021-09-27</td>\n",
              "    </tr>\n",
              "    <tr>\n",
              "      <th>11297</th>\n",
              "      <td>98</td>\n",
              "      <td>Same Boat</td>\n",
              "      <td>Zac Brown Band</td>\n",
              "      <td>1</td>\n",
              "      <td>0</td>\n",
              "      <td>2021-09-27</td>\n",
              "    </tr>\n",
              "    <tr>\n",
              "      <th>11298</th>\n",
              "      <td>99</td>\n",
              "      <td>Come Through</td>\n",
              "      <td>H.E.R. Featuring Chris Brown</td>\n",
              "      <td>15</td>\n",
              "      <td>95</td>\n",
              "      <td>2021-09-27</td>\n",
              "    </tr>\n",
              "    <tr>\n",
              "      <th>11299</th>\n",
              "      <td>100</td>\n",
              "      <td>Don't Go Yet</td>\n",
              "      <td>Camila Cabello</td>\n",
              "      <td>9</td>\n",
              "      <td>88</td>\n",
              "      <td>2021-09-27</td>\n",
              "    </tr>\n",
              "  </tbody>\n",
              "</table>\n",
              "<p>11300 rows × 6 columns</p>\n",
              "</div>"
            ],
            "text/plain": [
              "       Postion on chart              Titles  ... lastPosition  chart release date\n",
              "0                     1             Humble.  ...            3          2017-05-01\n",
              "1                     2        Shape Of You  ...            1          2017-05-01\n",
              "2                     3  That's What I Like  ...            2          2017-05-01\n",
              "3                     4                DNA.  ...            0          2017-05-01\n",
              "4                     5            Mask Off  ...            7          2017-05-01\n",
              "...                 ...                 ...  ...          ...                 ...\n",
              "11295                96         Knowing You  ...          100          2021-09-27\n",
              "11296                97       Am I Dreaming  ...            0          2021-09-27\n",
              "11297                98           Same Boat  ...            0          2021-09-27\n",
              "11298                99        Come Through  ...           95          2021-09-27\n",
              "11299               100        Don't Go Yet  ...           88          2021-09-27\n",
              "\n",
              "[11300 rows x 6 columns]"
            ]
          },
          "execution_count": 5,
          "metadata": {},
          "output_type": "execute_result"
        }
      ],
      "source": [
        "df"
      ]
    },
    {
      "cell_type": "markdown",
      "metadata": {
        "id": "W9lYKX8KB0TT"
      },
      "source": [
        "# Spotify Data"
      ]
    },
    {
      "cell_type": "code",
      "execution_count": null,
      "metadata": {
        "id": "upm9abhuCI6_"
      },
      "outputs": [],
      "source": [
        "import pandas as pd\n",
        "import spotipy\n",
        "import unidecode"
      ]
    },
    {
      "cell_type": "code",
      "execution_count": null,
      "metadata": {
        "id": "pBuwppqJCpNo"
      },
      "outputs": [],
      "source": [
        "def credential_check():\n",
        "\n",
        "  sp = spotipy.Spotify() \n",
        "  from spotipy.oauth2 import SpotifyClientCredentials \n",
        "  cid =\"a1cacb350efa48d489b13c818c5a8b4d\" \n",
        "  secret = \"5b3c58930c194f6688d5290ca5a4bc42\" \n",
        "  client_credentials_manager = SpotifyClientCredentials(client_id=cid, client_secret=secret) \n",
        "  sp = spotipy.Spotify(client_credentials_manager=client_credentials_manager) \n",
        "  sp.trace=False \n",
        "  \n",
        "  return sp\n",
        "\n",
        "def get_track_id(title,name,sp):\n",
        "\n",
        "  #clean up name\n",
        "  if \"Featuring\" in name:\n",
        "    name = name.split(\" Featuring\")[0]\n",
        "  \n",
        "  if \"Tyler\" in name:\n",
        "    pass\n",
        "  else:\n",
        "    if \", \" in name:\n",
        "      name = name.split(\",\")[0]\n",
        "  if \" & \" in name:\n",
        "    name = name.split(\" &\")[0]\n",
        "  if ' x ' in name :\n",
        "    name = name.split(\" x\")[0]\n",
        "  if ' X ' in name:\n",
        "    name = name.split(\" X\")[0]\n",
        "  if ' + ' in name:\n",
        "    name = name.split(\" +\")[0]\n",
        "\n",
        "  #remove any accents on names\n",
        "  name = unidecode.unidecode(name)\n",
        "\n",
        "  query = \"artist:\" + name + \" track:\" + title\n",
        "  result = sp.search(query,type = \"track\",limit = 3)\n",
        "  track_id = None\n",
        "  artist_uri = None\n",
        "  artist_genre = None\n",
        "  artist_name = None\n",
        "\n",
        "  Nr = len(result[\"tracks\"][\"items\"]) #number of tracks returned with the name\n",
        "  #else: #multiple artisit have a song with that name, use artisit name to match\n",
        "  \n",
        "  for n in range(0,Nr):\n",
        "    artist_name = result[\"tracks\"][\"items\"][n][\"artists\"][0][\"name\"]\n",
        "    artist_uri = result[\"tracks\"][\"items\"][n][\"artists\"][0][\"uri\"]\n",
        "    \n",
        "    artist_name = unidecode.unidecode(artist_name)\n",
        "    if artist_name.lower() in name.lower():  #found the right artist\n",
        "      track_id = result[\"tracks\"][\"items\"][n][\"id\"]\n",
        "      artist_genre = sp.artist(artist_uri)[\"genres\"]\n",
        "      break\n",
        "  \n",
        "  if track_id is None:\n",
        "   #print(\"cant find id for {} and artist name {}\".format(title,name))\n",
        "   pass\n",
        "\n",
        "  return (track_id,artist_uri,artist_genre,artist_name)"
      ]
    },
    {
      "cell_type": "code",
      "execution_count": null,
      "metadata": {
        "id": "ytnJ1xJykrd-"
      },
      "outputs": [],
      "source": [
        "def get_track_features(data_store,sp):\n",
        "  features_df = pd.DataFrame()\n",
        "  for n in range(len(data_store)):\n",
        "    features = sp.audio_features(data_store[n][0])\n",
        "  \n",
        "    features[0][\"Position\"] = data_store[n][4]\n",
        "    genre = data_store[n][5]\n",
        "    genre = \"**\".join(genre)\n",
        "    features[0][\"Genres\"] = genre\n",
        "    features[0][\"Artist_Name\"] = data_store[n][3]\n",
        "    features[0][\"Date\"] = data_store[n][-1]\n",
        "\n",
        "    temp_df = pd.DataFrame(data = features)\n",
        "    features_df = pd.concat((features_df, temp_df))\n",
        "\n",
        "  features_df.reset_index(drop = True, inplace = True)\n",
        "  features_df.drop(columns = [\"type\",\"id\",\"uri\",\"track_href\",\"analysis_url\"],inplace = True)\n",
        "\n",
        "  return features_df\n",
        "  "
      ]
    },
    {
      "cell_type": "code",
      "execution_count": null,
      "metadata": {
        "id": "1IkWI020FXXJ"
      },
      "outputs": [],
      "source": [
        "#Initialize spotify credentials\n",
        "sp = credential_check()\n",
        "user_id = \"spotify\"\n",
        "\n",
        "#load and section only debut position data\n",
        "#billboard_data = df.copy(deep = True)\n",
        "billboard_data = pd.read_csv(\"/content/SongList.csv\",index_col = 0)\n",
        "debut_only = billboard_data[(billboard_data[\"lastPosition\"] == 0) & (billboard_data[\"Weeks\"] == 1)].copy()\n",
        "debut_only.reset_index(drop = True, inplace = True)\n",
        "\n",
        "#get track IDs from spotify\n",
        "data_store = []\n",
        "more_care = []\n",
        "for ind,val in debut_only.iterrows():\n",
        "  title = val[\"Titles\"]\n",
        "  name = val[\"Artists\"]\n",
        "  pos = val[\"Postion on chart\"]\n",
        "  date = val[\"chart_release_date\"]\n",
        "\n",
        "  track_id,artist_id,genre,aname = get_track_id(title,name,sp)\n",
        "  if track_id is None:\n",
        "    more_care.append(val)\n",
        "  else:\n",
        "    data_store.append((track_id,artist_id,title,aname,pos,genre,date))\n",
        "\n",
        "df = get_track_features(data_store,sp)\n",
        "df.to_csv(\"song_features.csv\",index = 0)"
      ]
    },
    {
      "cell_type": "markdown",
      "metadata": {
        "id": "Ge-qyVSG9mHe"
      },
      "source": [
        "# Data Preocessing"
      ]
    },
    {
      "cell_type": "code",
      "execution_count": 21,
      "metadata": {
        "id": "MTae8c_SLQej"
      },
      "outputs": [],
      "source": [
        "import pandas as pd\n",
        "import numpy as np\n",
        "from collections import Counter\n",
        "from scipy import stats\n",
        "from collections import Counter\n",
        "import matplotlib.pyplot as plt\n",
        "import datetime\n",
        "import seaborn as sns\n"
      ]
    },
    {
      "cell_type": "code",
      "execution_count": 2,
      "metadata": {
        "id": "W97X6iw1Q5vh"
      },
      "outputs": [],
      "source": [
        "def genres(df):\n",
        "  unique_artists = df[\"Artist_Name\"].unique()\n",
        "\n",
        "  primary_genres = [\"pop\",\"rap\",\"country\",\"latin\",\"dance\",\"r&b\",\"alternative\"]\n",
        "\n",
        "  n_df = pd.DataFrame()\n",
        "  #artist_overall_genre = []\n",
        "  for artist in unique_artists:\n",
        "    sub_df = df[df[\"Artist_Name\"] == artist].copy()\n",
        "    n_songs = len(sub_df)\n",
        "    sub_df.reset_index(drop = True,inplace = True)\n",
        "    genres = sub_df.at[0,\"Genres\"]\n",
        "\n",
        "    #processing each genre list to match one of the primary genres\n",
        "    try:\n",
        "      genres = genres.split(\"**\")\n",
        "    except:\n",
        "      artist_overall_genre.append(\"manual look up\")\n",
        "      continue\n",
        "\n",
        "    genres_list = []\n",
        "    #print(genres)\n",
        "    #split into primary category\n",
        "    for i in genres:\n",
        "      \n",
        "      if i == \"hip hop\":\n",
        "        i = \"hip-hop\"\n",
        "\n",
        "      if \" \" in i:          #if genre has a prefix, perform this operation\n",
        "        result = i.split(\" \")[1]\n",
        "        genres_list.append(result)\n",
        "      else:\n",
        "        genres_list.append(i)\n",
        "\n",
        "    #take max of genre as artist genre\n",
        "    max_genre = max(genres_list, key = genres_list.count)\n",
        "    artist_overall_genre = max_genre\n",
        "    artist_overall_genre = list((artist_overall_genre,) * n_songs)\n",
        "    sub_df[\"n_Genres\"] = artist_overall_genre\n",
        "\n",
        "    n_df = pd.concat([n_df,sub_df],ignore_index=True)\n",
        "\n",
        "\n",
        "  #work on conditionals:\n",
        "  n_df.loc[n_df.n_Genres == \"hip-hop\", \"n_Genres\"] = \"rap\"\n",
        "  n_df.loc[n_df.n_Genres == \"hip\", \"n_Genres\"] = \"rap\"\n",
        "  n_df.loc[n_df.n_Genres == \"trap\", \"n_Genres\"] = \"rap\"\n",
        "  n_df.loc[n_df.n_Genres == \"rouge\", \"n_Genres\"] = \"rap\"\n",
        "  n_df.loc[n_df.Artist_Name == \"Chris Brown\", \"n_Genres\"] = \"r&b\"\n",
        "  n_df.loc[n_df.Artist_Name == \"Nicki Minaj\", \"n_Genres\"] = \"rap\"\n",
        "  n_df.loc[n_df.n_Genres == \"drill\", \"n_Genres\"] = \"rap\"\n",
        "  n_df.loc[n_df.n_Genres == \"americana\", \"n_Genres\"] = \"contry\"\n",
        "  n_df.loc[n_df.n_Genres == \"k-pop\", \"n_Genres\"] = \"pop\"\n",
        "  n_df.loc[n_df.n_Genres == \"k-rap\", \"n_Genres\"] = \"rap\"\n",
        "  n_df.loc[n_df.n_Genres == \"coast\", \"n_Genres\"] = \"rap\"\n",
        "  n_df.loc[n_df.n_Genres == \"brostep\", \"n_Genres\"] = \"dance\"\n",
        "  n_df.loc[n_df.n_Genres == \"house\", \"n_Genres\"] = \"dance\"\n",
        "  n_df.loc[n_df.n_Genres == \"bachata\", \"n_Genres\"] = \"latin\"\n",
        "  n_df.loc[n_df.n_Genres == \"carolina\", \"n_Genres\"] = \"rap\"\n",
        "  n_df.loc[n_df.n_Genres == \"room\", \"n_Genres\"] = \"rap\"\n",
        "  n_df.loc[n_df.n_Genres == \"rican\", \"n_Genres\"] = \"latin\"\n",
        "  n_df.loc[n_df.n_Genres == \"edm\", \"n_Genres\"] = \"dance\"\n",
        "  n_df.loc[n_df.n_Genres == \"contemporary\", \"n_Genres\"] = \"r&b\"\n",
        "  n_df.loc[n_df.n_Genres == \"reggaeton\", \"n_Genres\"] = \"latin\"\n",
        "  n_df.loc[n_df.n_Genres == \"carioca\", \"n_Genres\"] = \"latin\"\n",
        "  n_df.loc[n_df.Artist_Name == \"Rosalia\", \"n_Genres\"] = \"latin\"\n",
        "  n_df.loc[n_df.Artist_Name == \"ROSALIA\", \"n_Genres\"] = \"latin\"\n",
        "  n_df.loc[n_df.n_Genres == \"z\", \"n_Genres\"] = \"alternative\"\n",
        "  n_df.loc[n_df.Artist_Name == \"Coldplay\", \"n_Genres\"] = \"pop\"\n",
        "  n_df.loc[n_df.Artist_Name == \"WizKid\", \"n_Genres\"] = \"pop\"\n",
        "  n_df.loc[n_df.Artist_Name == \"Tom MacDonald\", \"n_Genres\"] = \"country\"\n",
        "  n_df.loc[n_df.Artist_Name == \"Avicii\", \"n_Genres\"] = \"dance\"\n",
        "  n_df.loc[n_df.n_Genres == \"media\", \"n_Genres\"] = \"pop\"\n",
        "  n_df.loc[n_df.Artist_Name == \"Jack Harlow\", \"n_Genres\"] = \"rap\"\n",
        "  n_df.loc[n_df.n_Genres == \"ccm\", \"n_Genres\"] = \"alternative\"\n",
        "  n_df.loc[n_df.n_Genres == \"metal\", \"n_Genres\"] = \"rock\"\n",
        "  n_df.loc[n_df.n_Genres == \"indie\", \"n_Genres\"] = \"alternative\"\n",
        "  n_df.loc[n_df.Artist_Name == \"Cochise\", \"n_Genres\"] = \"rap\"\n",
        "  n_df.loc[n_df.Artist_Name == \"Cheat Codes\", \"n_Genres\"] = \"dance\"\n",
        "  n_df.loc[n_df.Artist_Name == \"SHAED\", \"n_Genres\"] = \"dance\"\n",
        "  n_df.loc[n_df.Artist_Name == \"Pardison Fontaine\", \"n_Genres\"] = \"rap\"\n",
        "  n_df.loc[n_df.Artist_Name == \"Big Red Machine\", \"n_Genres\"] = \"alternative\"\n",
        "  n_df.loc[n_df.n_Genres == \"contry\", \"n_Genres\"] = \"country\"\n",
        "  n_df.loc[n_df.n_Genres == \"electropop\", \"n_Genres\"] = \"dance\"\n",
        "  n_df.loc[n_df.n_Genres == \"folk\", \"n_Genres\"] = \"alternative\"\n",
        "  n_df.loc[n_df.n_Genres == \"rock\", \"n_Genres\"] = \"alternative\"\n",
        "  n_df.loc[n_df.n_Genres == \"disney\", \"n_Genres\"] = \"pop\"\n",
        "  n_df.loc[n_df.n_Genres == \"road\", \"n_Genres\"] = \"country\"\n",
        "  \n",
        "\n",
        "  n_df.drop(columns=[\"Genres\"],inplace = True)\n",
        "  return n_df\n",
        "\n",
        "def discretize(feature,col_values):\n",
        "\n",
        "  if feature in [\"danceability\",\"energy\",\"acousticness\",\"valence\",\"instrumentalness\"]:    #variables are broken into two variables. less x and more x where x is feature\n",
        "    n_vars = 1\n",
        "    #low_feature = [1 if x < 0.5 else 0 for x in col_values]\n",
        "    high_feature = [1 if x >= 0.5 else 0 for x in col_values]\n",
        "    feature_set = high_feature\n",
        "\n",
        "  elif feature == \"liveness\":\n",
        "    n_vars = 1\n",
        "    #low_feature = [1 if x < 0.8 else 0 for x in col_values]\n",
        "    high_feature = [1 if x >= 0.8 else 0 for x in col_values]\n",
        "    feature_set = high_feature\n",
        "\n",
        "  elif feature == \"speechiness\":\n",
        "    n_vars = 3\n",
        "    low_feature = [1 if x < 0.33 else 0 for x in col_values]\n",
        "    mid_feature = [1 if (x >= 0.33 and x < 0.66) else 0 for x in col_values]\n",
        "    high_feature = [1 if x >= 0.66 else 0 for x in col_values]\n",
        "    feature_set = (low_feature,mid_feature,high_feature)\n",
        "\n",
        "  elif feature == \"duration_ms\":\n",
        "    n_vars = 1\n",
        "    col_values = col_values / 60000       #convert to minutes\n",
        "    #low_feature = [1 if x < 3.50 else 0 for x in col_values]    #threshold based on mean song length\n",
        "    high_feature = [1 if x >= 3.50 else 0 for x in col_values]\n",
        "    feature_set = high_feature\n",
        "\n",
        "  elif feature == \"tempo\":\n",
        "    n_vars = 1\n",
        "    #low_feature = [1 if x < 120 else 1 for x in col_values] #temp has wide range of classification put categorize moderate speed as threshold\n",
        "    high_feature = [1 if x >= 120 else 0 for x in col_values]\n",
        "    feature_set = high_feature\n",
        "\n",
        "  elif feature == \"mode\":\n",
        "    n_vars = 1\n",
        "    #minor_mode = [1 if x == 0 else 0 for x in col_values]\n",
        "    major_mode = col_values\n",
        "    feature_set = major_mode\n",
        "\n",
        "  elif feature == \"n_Genres\":\n",
        "    n_vars = 7\n",
        "    pop_genre = [1 if x ==\"pop\" else 0 for x in col_vals]\n",
        "    rap_genre = [1 if x ==\"rap\" else 0 for x in col_vals]\n",
        "    country_genre = [1 if x ==\"country\" else 0 for x in col_vals]\n",
        "    latin_genre = [1 if x ==\"latin\" else 0 for x in col_vals]\n",
        "    dance_genre = [1 if x ==\"dance\" else 0 for x in col_vals]\n",
        "    rb_genre = [1 if x ==\"r&b\" else 0 for x in col_vals]\n",
        "    alt_genre = [1 if x ==\"alternative\" else 0 for x in col_vals]\n",
        "\n",
        "    feature_set = (pop_genre,rap_genre,country_genre,latin_genre,dance_genre,rb_genre,alt_genre)\n",
        "    \n",
        "  return feature_set,n_vars"
      ]
    },
    {
      "cell_type": "code",
      "execution_count": 22,
      "metadata": {
        "id": "NV_5FLZ7O3Dv"
      },
      "outputs": [],
      "source": [
        "df = pd.read_csv(\"/content/song_features.csv\")      #load data\n",
        "df = df.sample(frac=1,random_state=10).reset_index(drop=True)\n",
        "outcome_variables = df[\"Position\"].to_numpy()       #get outcomes variables\n",
        "debut_dict = Counter(outcome_variables)"
      ]
    },
    {
      "cell_type": "code",
      "execution_count": 145,
      "metadata": {
        "colab": {
          "base_uri": "https://localhost:8080/",
          "height": 442
        },
        "id": "v5BIanmOToXj",
        "outputId": "3437bd8f-a680-47ac-9c3a-30e91df644b1"
      },
      "outputs": [
        {
          "data": {
            "image/png": "[encoded data removed]",
            "text/plain": [
              "<Figure size 1680x600 with 1 Axes>"
            ]
          },
          "metadata": {
            "needs_background": "light"
          },
          "output_type": "display_data"
        }
      ],
      "source": [
        "fig, ax = plt.subplots(figsize=(14,5),dpi = 120)\n",
        "ax.spines[\"top\"].set_visible(False)\n",
        "ax.spines[\"right\"].set_visible(False)\n",
        "plt.bar(debut_dict.keys(),debut_dict.values())\n",
        "\n",
        "plt.xlabel(\"Debut Position on Hot 100 Chart (Summer of 2017-2021)\",fontsize = 17)\n",
        "plt.ylabel(\"Frequency\",fontsize = 17)\n",
        "\n",
        "plt.yticks(fontsize = 15)\n",
        "plt.xticks(fontsize = 15)\n",
        "plt.tight_layout()"
      ]
    },
    {
      "cell_type": "code",
      "execution_count": 23,
      "metadata": {
        "id": "NRE9mRmvQ44l"
      },
      "outputs": [],
      "source": []
    },
    {
      "cell_type": "code",
      "execution_count": 25,
      "metadata": {
        "id": "k2JwXxxmKHFe"
      },
      "outputs": [],
      "source": [
        "#process genres\n",
        "n_df = genres(df)\n",
        "\n",
        "#break into boolean variables\n",
        "feature_to_discretize = [\"danceability\",\"energy\",\"acousticness\",\"valence\",\n",
        "                         \"instrumentalness\",\"liveness\",\"speechiness\",\n",
        "                         \"duration_ms\",\"tempo\",\"mode\",\"n_Genres\"]\n",
        "\n",
        "for feature in feature_to_discretize:\n",
        "  col_vals = n_df[feature].to_numpy()\n",
        "  res,n_vars = discretize(feature,col_vals)\n",
        "\n",
        "  if (n_vars == 1) and (feature == \"mode\"):\n",
        "    names = [\"mode\"]#[\"minor_\",\"major_\"]\n",
        "  elif n_vars == 1:\n",
        "    names = feature#[\"low_\",\"high_\"]\n",
        "    \n",
        "  elif n_vars == 3:\n",
        "    names = [\"low_\",\"mid_\",\"high_\"]\n",
        "  elif n_vars == 7:\n",
        "    names = [\"pop_genre\",\"rap_genre\",\"country_genre\",\"latin_genre\",\"dance_genre\",\"r&b_genre\",\"alt_genre\"]\n",
        "  \n",
        "\n",
        "  if n_vars == 7:\n",
        "    #print(res)\n",
        "    for n in range(n_vars):\n",
        "      n_df[names[n]] = res[n]\n",
        "\n",
        "  elif n_vars == 3:\n",
        "    #print(res)\n",
        "    for n in range(n_vars):\n",
        "      n_df[names[n] + feature] = res[n]\n",
        "\n",
        "  else:\n",
        "    n_df[names] = res\n",
        "  \n",
        "  #n_df.drop(columns=[\"speechiness\",\"n_Genres\"],inplace=True)\n",
        "\n",
        "n_df.drop(columns=[\"speechiness\",\"n_Genres\"],inplace = True)"
      ]
    },
    {
      "cell_type": "code",
      "execution_count": 27,
      "metadata": {
        "id": "Te5APC4XAEYb"
      },
      "outputs": [],
      "source": [
        "#section data into \"train and test\"\n",
        "#(2017-2020) is train and 2021 is test data\n",
        "#convert to datetime\n",
        "n_df[\"Date\"] = pd.to_datetime(df[\"Date\"])\n",
        "\n",
        "pre_2021 = n_df[n_df[\"Date\"].dt.year != 2021].copy()\n",
        "post_2021 = n_df[n_df[\"Date\"].dt.year == 2021].copy()\n",
        "\n",
        "pre_2021 = pre_2021.sample(random_state=10,frac = 1)\n",
        "post_2021 = post_2021.sample(random_state=10,frac = 1)\n",
        "\n",
        "post_2021 = post_2021.reset_index(drop = True)\n",
        "pre_2021 = pre_2021.reset_index(drop = True)"
      ]
    },
    {
      "cell_type": "code",
      "execution_count": 28,
      "metadata": {
        "id": "tiejQ_DQP5bG"
      },
      "outputs": [],
      "source": [
        "pre_outcome_variables = pre_2021[\"Position\"].to_numpy()\n",
        "post_outcome_variables = post_2021[\"Position\"].to_numpy()\n",
        "pre_2021.drop(columns=[\"Position\",\"Artist_Name\",\"Date\",\"time_signature\",\"key\",\"loudness\"],inplace = True)    #drop outcome column and artist name\n",
        "post_2021.drop(columns=[\"Position\",\"Artist_Name\",\"Date\",\"time_signature\",\"key\",\"loudness\"],inplace = True)\n",
        "\n",
        "pre_outcome_variables = [0 if x<=50 else 1 for x in pre_outcome_variables] #discretize outcome variable [1,50],[51,100]\n",
        "post_outcome_variables = [0 if x<=50 else 1 for x in post_outcome_variables]"
      ]
    },
    {
      "cell_type": "markdown",
      "metadata": {
        "id": "2bSakO4uLphA"
      },
      "source": [
        "# Causal Inference"
      ]
    },
    {
      "cell_type": "markdown",
      "metadata": {
        "id": "dFYQb7dRMBka"
      },
      "source": [
        "![Screen Shot 2021-11-29 at 12.34.07 AM.png](data:image/png;base64,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)"
      ]
    },
    {
      "cell_type": "code",
      "execution_count": 13,
      "metadata": {
        "id": "4giA5MmMLryD"
      },
      "outputs": [],
      "source": [
        "#using samantha causal inference approach where we assume\n",
        "#C is the cause being tested\n",
        "#e is the effect - high chart position (>= 50)\n",
        "#x is a variable that could be potential cause\n",
        "#X is the set of all prima facie cause of e\n",
        "\n",
        "def calc_causal_significance(e,c,x):\n",
        "  '''p(e|c^x) - p(e|-c^x)'''\n",
        "\n",
        "  p_e_cx = prob_cond_ext(e,c,x,1,1,1)  #p(e|c,x) -> num(e,c,x)/num(c,x)\n",
        "  p_e__cx = prob_cond_ext(e,c,x,1,0,1) #p(e|-c,x) -> num(e,-c,x)/num(-c,x)\n",
        "\n",
        "  return p_e_cx - p_e__cx\n",
        "\n",
        "#calculate unconditional probability\n",
        "def prob_rv(rv,v1):\n",
        "  return counter(rv)[v1]/len(rv)\n",
        "\n",
        "def prob_cond(rv1,rv2,v1,v2):\n",
        "  d = {\"rv1\":rv1,\"rv2\":rv2}\n",
        "  table = pd.DataFrame(data = d)\n",
        "\n",
        "  table = table.loc[(table[\"rv2\"] == v2) & (table[\"rv1\"] == v1)].copy() #step one\n",
        "  cond_prob = len(table)/len(rv1)\n",
        "\n",
        "  return cond_prob\n",
        "\n",
        "def prob_cond_ext(rv1,rv2,rv3,v1,v2,v3):\n",
        "  d = {\"rv1\":rv1,\"rv2\":rv2,\"rv3\":rv3}\n",
        "  table = pd.DataFrame(data = d)\n",
        "\n",
        "  denominator = len(table.loc[(table[\"rv2\"] == v2) & (table[\"rv3\"] == v3)])\n",
        "  numerator = len(table.loc[(table[\"rv1\"] == v1) & (table[\"rv2\"] == v2) & (table[\"rv3\"] == v3)])\n",
        "\n",
        "  try:\n",
        "    cond_prob = numerator/denominator\n",
        "  except:\n",
        "    cond_prob = 0\n",
        "\n",
        "  return cond_prob\n"
      ]
    },
    {
      "cell_type": "code",
      "execution_count": null,
      "metadata": {
        "id": "PNNYq04VOk2u"
      },
      "outputs": [],
      "source": [
        "X = list(pre_2021.columns) #prima facie causes\n",
        "X.remove(\"instrumentalness\")\n",
        "X.remove(\"liveness\")\n",
        "e = pre_outcome_variables\n",
        "e_avg = {}\n",
        "\n",
        "for c in X:\n",
        "  c_val = pre_2021[c].to_numpy()\n",
        "  X_c = X.copy()\n",
        "  X_c.remove(c)\n",
        "\n",
        "  if \"_\" in c:\n",
        "    c_feature = c.split(\"_\")\n",
        "    if c_feature[1] == \"ms\":\n",
        "      pass\n",
        "    else:\n",
        "      if c_feature[1] == \"speechiness\":\n",
        "        X_c = [x for x in X_c if not \"speechiness\" in x]\n",
        "      \n",
        "      elif c_feature[1] == \"genre\":\n",
        "        X_c = [x for x in X_c if not \"genre\" in x]\n",
        "        \n",
        "  print(\"Cause is {}\".format(c))\n",
        "  E_x = []\n",
        "\n",
        "  for x in X_c:\n",
        "    #print(\"X is {}\".format(x))\n",
        "    x_val = pre_2021[x].to_numpy()\n",
        "    res = calc_causal_significance(e,c_val,x_val)\n",
        "    E_x.append(res)\n",
        "  print(len(E_x))\n",
        "  e_avg[c] = E_x"
      ]
    },
    {
      "cell_type": "code",
      "execution_count": 15,
      "metadata": {
        "id": "rV3Al9kfVKH0"
      },
      "outputs": [],
      "source": [
        "#calculate average causal significance for each cause\n",
        "mean_e_avg = {}\n",
        "for key,val in e_avg.items():\n",
        "  mean_e_avg[key] = np.round(np.sum(val)/len(val),3)"
      ]
    },
    {
      "cell_type": "markdown",
      "metadata": {
        "id": "Xc-EDBqOFRKc"
      },
      "source": [
        "## plot of causal significances"
      ]
    },
    {
      "cell_type": "code",
      "execution_count": 120,
      "metadata": {
        "colab": {
          "base_uri": "https://localhost:8080/",
          "height": 1000
        },
        "id": "eBs6pBMKfdT8",
        "outputId": "5252cbde-1dbc-48c6-bbba-a7c3428a2127"
      },
      "outputs": [
        {
          "data": {
            "image/png": "[encoded data removed]",
            "text/plain": [
              "<Figure size 840x1080 with 1 Axes>"
            ]
          },
          "metadata": {
            "needs_background": "light"
          },
          "output_type": "display_data"
        }
      ],
      "source": [
        "fig, ax = plt.subplots(figsize = (7,9),dpi = 120)\n",
        "plt.barh(list(mean_e_avg.keys()),list(mean_e_avg.values()))\n",
        "#ax.spines[\"left\"].set_position(\"zero\")\n",
        "ax.spines[\"right\"].set_position(\"zero\")\n",
        "ax.spines[\"top\"].set_visible(False)\n",
        "#plt.yticks([])\n",
        "plt.xticks(fontsize = 17)\n",
        "plt.yticks(fontsize = 15)\n",
        "plt.xlabel(\"Average Causal Significance \" r\"$\\varepsilon_{avg}(c,e)$\",fontsize = 17)\n",
        "plt.tight_layout()"
      ]
    },
    {
      "cell_type": "code",
      "execution_count": 30,
      "metadata": {
        "id": "nkZ2hmhiSy3p"
      },
      "outputs": [],
      "source": [
        "#Evaluation\n",
        "from sklearn.linear_model import LogisticRegression\n",
        "from sklearn.metrics import classification_report\n",
        "from sklearn.metrics import roc_auc_score\n",
        "\n",
        "\n",
        "y_train = pre_outcome_variables\n",
        "y_test = post_outcome_variables\n",
        "x_train = pre_2021\n",
        "x_test = post_2021\n",
        "\n",
        "x_train.drop(columns=[\"tempo\",\"valence\",\"dance_genre\",\"pop_genre\",\"acousticness\",\"instrumentalness\",\"liveness\"], inplace = True)\n",
        "x_test.drop(columns=[\"tempo\",\"valence\",\"dance_genre\",\"pop_genre\",\"acousticness\",\"instrumentalness\",\"liveness\"], inplace = True)\n",
        "\n",
        "clf = LogisticRegression(random_state=0).fit(x_train, y_train)\n",
        "y_predict = clf.predict_proba(x_test)"
      ]
    },
    {
      "cell_type": "code",
      "execution_count": 34,
      "metadata": {
        "colab": {
          "base_uri": "https://localhost:8080/"
        },
        "id": "G3DMLgLb3Neq",
        "outputId": "4110553b-3117-44c0-9d31-e51f06081246"
      },
      "outputs": [
        {
          "data": {
            "text/plain": [
              "0.6685315564495851"
            ]
          },
          "execution_count": 34,
          "metadata": {},
          "output_type": "execute_result"
        }
      ],
      "source": [
        "roc_auc_score(y_test, clf.predict_proba(x_test)[:, 1])"
      ]
    }
  ],
  "metadata": {
    "colab": {
      "collapsed_sections": [
        "Gt0hIgBY9rSA",
        "W9lYKX8KB0TT",
        "Ge-qyVSG9mHe"
      ],
      "name": "Causal_Project.ipynb",
      "provenance": [],
      "toc_visible": true
    },
    "kernelspec": {
      "display_name": "Python 3",
      "name": "python3"
    },
    "language_info": {
      "name": "python"
    }
  },
  "nbformat": 4,
  "nbformat_minor": 0
}
